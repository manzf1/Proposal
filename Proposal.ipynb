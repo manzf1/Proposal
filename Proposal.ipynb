{
  "nbformat": 4,
  "nbformat_minor": 0,
  "metadata": {
    "colab": {
      "name": "Proposal",
      "provenance": [],
      "collapsed_sections": []
    },
    "kernelspec": {
      "name": "python3",
      "display_name": "Python 3"
    },
    "language_info": {
      "name": "python"
    }
  },
  "cells": [
    {
      "cell_type": "markdown",
      "metadata": {
        "id": "h1e4z_ABEAnW"
      },
      "source": [
        "#**Proposal** \n",
        "\n",
        "##**Introduction**\n",
        "\n",
        "Nowadays, the majority of people spend most of their time on their phones using social media. Several studies have shown that some variables are more influential in a person's time spent in social media than others. Some people might spend more time on social media if they have more time off, and if there are people that are more influential to use social media than others. \n",
        "\n",
        "Does an age range uses social media more than others? Does the field where someone works give them more time to use social media? Every person is different because some get time to use social media while being busy in their work to make their minds fresh, and some people are too busy to use social media because of the work burden or don't feel like using it.\n",
        "\n",
        "##**Research Questions**\n",
        "\n",
        "**What features can be predicted that contribute to a person's social media usage?**\n",
        "\n",
        "We will determine what features show to influence a person's time spent in social media using the data.\n",
        "\n",
        "##**Data**\n",
        "\n",
        "The data we will be using is from a website where people upload datasets and build models; this is the link from the data we will be using. We will be testing which features influence a person's time spent on social media. We will download the data in a .csv file, upload it to Github and convert it to a raw. The data will be analyzed via Google Colab.\n",
        "\n",
        "##**Approach**\n",
        "\n",
        "**Data Management:**\n",
        "\n",
        "We downloaded the cvs file and stored it in a Github repository. We will then use Colab to create an EDA to check if the data is prepared for analysis.\n",
        "\n",
        "**Statistical Analysis:**\n",
        "\n",
        "To perform EDA, we have to understand the data. Then we have to check the contents of the data for the issues. After that, we have to assess the data types. In the EDA, we will check for missing data and study possible data distributions (via histograms, bar charts, and box plots). The EDA will help us understand the data.\n",
        "\n",
        "We will analyze any outliers to determine if those data points are accurate or not. If those points are not exact, we will have to decide whether to keep them or drop them.\n",
        "\n",
        "After using EDA to comprehend our data, we can move on to our feature engineering. We will perform techniques such as feature elimination and variance inflation factor to determine the features that would be more useful in our prediction model. This will lower the choice of our features in the dataset to the highly predictive ones.\n",
        "\n",
        "Once we have the most valuable features, we will test various models. We will perform ensemble learning and compare the results. The model with the best performance metrics will be chosen to be the final choice.\n",
        "\n",
        "\n",
        "Team Members: \n",
        "\n",
        "Fatima Manzar\n",
        "\n",
        "Ana Salazar"
      ]
    }
  ]
}